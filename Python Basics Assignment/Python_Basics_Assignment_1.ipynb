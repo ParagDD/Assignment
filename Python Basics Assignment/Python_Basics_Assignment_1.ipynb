{
 "cells": [
  {
   "cell_type": "markdown",
   "metadata": {},
   "source": [
    "1. In the below elements which of them are values or an expression? eg:- values can be\n",
    "integer or string and expressions will be mathematical operators.\n",
    "\n",
    "*\n",
    "\n",
    "'hello'\n",
    "\n",
    "-87.8\n",
    "\n",
    "-\n",
    "\n",
    "/\n",
    "\n",
    "+\n",
    "\n",
    "6"
   ]
  },
  {
   "cell_type": "markdown",
   "metadata": {},
   "source": [
    "Ans: \n",
    "Values : 'hello' , -87.8, 6\n",
    "Expressions : * , - , / , +"
   ]
  },
  {
   "cell_type": "markdown",
   "metadata": {},
   "source": [
    "2. What is the difference between string and variable?"
   ]
  },
  {
   "cell_type": "markdown",
   "metadata": {},
   "source": [
    "Ans.\n",
    "The variable is used to store data with different data types whereas string is a built-in data type in python.\n",
    "We can assign a value to create a variable by using '=' sign. ex. a = 45 , b = \"Apple\"\n",
    "String is a collection and combination of characters, integers or special characters. The string is defined in single quote ' ' or double quotes \" \". ex. a = \"This is a string 1\""
   ]
  },
  {
   "cell_type": "markdown",
   "metadata": {},
   "source": [
    "3. Describe three different data types."
   ]
  },
  {
   "cell_type": "code",
   "execution_count": 11,
   "metadata": {},
   "outputs": [
    {
     "name": "stdout",
     "output_type": "stream",
     "text": [
      "<class 'int'> <class 'float'> <class 'complex'>\n"
     ]
    }
   ],
   "source": [
    "\"\"\"\n",
    "Ans.\n",
    "The three different data types in python are: \n",
    "1)int : Integer data type contains whole numbers ex. a = 45\n",
    "2)float : Float data type contains floating point values. ex. b = 4.5565\n",
    "3)complex : Complex data type contains complex numbers. ex. c = 1+2j\n",
    "\"\"\"\n",
    "a = 45\n",
    "b = 4.5565\n",
    "c=1+2j\n",
    "print(type(a),type(b),type(c))"
   ]
  },
  {
   "cell_type": "markdown",
   "metadata": {},
   "source": [
    "4. What is an expression made up of? What do all expressions do?"
   ]
  },
  {
   "cell_type": "code",
   "execution_count": 13,
   "metadata": {},
   "outputs": [
    {
     "data": {
      "text/plain": [
       "12113"
      ]
     },
     "execution_count": 13,
     "metadata": {},
     "output_type": "execute_result"
    }
   ],
   "source": [
    "\"\"\"\n",
    "Ans.\n",
    "An expression is a combination of operators and operands (values, variables) which in result produce output for given expression. \n",
    "An expression is evaluated as per the precedence of its operators. So that if there is more than one operator in an expression,\n",
    "their precedence decides which operation will be performed first. \n",
    "ex. \n",
    "\"\"\"\n",
    "34*365+46-343\n",
    "\n"
   ]
  },
  {
   "cell_type": "markdown",
   "metadata": {},
   "source": [
    "5. This assignment statements, like spam = 10. What is the difference between an expression and a statement?"
   ]
  },
  {
   "cell_type": "markdown",
   "metadata": {},
   "source": [
    "Ans.\n",
    "spam = 10 \n",
    "the above statement stores the value 10 in variable spam. It is diiferent from expression as expression is a combination of\n",
    "operators and operands which produce outpunt for given expression.\n",
    "In above statement, the value is stored in a variable only."
   ]
  },
  {
   "cell_type": "markdown",
   "metadata": {},
   "source": [
    "6. After running the following code, what does the variable bacon contain?\n",
    "bacon = 22\n",
    "bacon + 1"
   ]
  },
  {
   "cell_type": "code",
   "execution_count": 1,
   "metadata": {},
   "outputs": [
    {
     "name": "stdout",
     "output_type": "stream",
     "text": [
      "22\n"
     ]
    }
   ],
   "source": [
    "bacon = 22\n",
    "bacon + 1\n",
    "print(bacon)\n",
    "\n",
    "\n",
    "#the variable bacon contains 22. Here bacon + 1 is not stored in the bacon variable so the value of bacon will not change.\n"
   ]
  },
  {
   "cell_type": "markdown",
   "metadata": {},
   "source": [
    "7. What should the values of the following two terms be?\n",
    "'spam' + 'spamspam'\n",
    "'spam' * 3"
   ]
  },
  {
   "cell_type": "markdown",
   "metadata": {},
   "source": [
    "Ans. \n",
    "'spamspamspam'\n",
    "for both the expressions, the values will be same."
   ]
  },
  {
   "cell_type": "markdown",
   "metadata": {},
   "source": [
    "8. Why is eggs a valid variable name while 100 is invalid?"
   ]
  },
  {
   "cell_type": "markdown",
   "metadata": {},
   "source": [
    "Ans. \n",
    "The variable name can not start with number, special character except _.\n",
    "Also a number can not be assigned to another number."
   ]
  },
  {
   "cell_type": "markdown",
   "metadata": {},
   "source": [
    "9. What three functions can be used to get the integer, floating-point number, or string version of a value?"
   ]
  },
  {
   "cell_type": "code",
   "execution_count": 21,
   "metadata": {},
   "outputs": [
    {
     "name": "stdout",
     "output_type": "stream",
     "text": [
      "10\n",
      "10.0\n",
      "10\n"
     ]
    }
   ],
   "source": [
    "\"\"\"\n",
    "Ans.\n",
    "int(), float(), str() can be used to get the integer, floating-point number, string version of a value.\n",
    "\"\"\"\n",
    "a = 10\n",
    "print(int(a))\n",
    "print(float(a))\n",
    "print(str(a))"
   ]
  },
  {
   "cell_type": "markdown",
   "metadata": {},
   "source": [
    "10. Why does this expression cause an error? How can you fix it?\n",
    "'I have eaten ' + 99 + 'burritos.'"
   ]
  },
  {
   "cell_type": "code",
   "execution_count": 23,
   "metadata": {},
   "outputs": [
    {
     "name": "stdout",
     "output_type": "stream",
     "text": [
      "I have eaten 99 burritos.\n",
      "I have eaten 99 burritos.\n"
     ]
    }
   ],
   "source": [
    "#Ans.\n",
    "#This can be solved in two ways.\n",
    "#1)\n",
    "print('I have eaten ' + '99 ' + 'burritos.')\n",
    "#2) By type-casting the integer value to string value\n",
    "print('I have eaten ' + str(99) + ' burritos.')"
   ]
  }
 ],
 "metadata": {
  "kernelspec": {
   "display_name": "Python 3",
   "language": "python",
   "name": "python3"
  },
  "language_info": {
   "codemirror_mode": {
    "name": "ipython",
    "version": 3
   },
   "file_extension": ".py",
   "mimetype": "text/x-python",
   "name": "python",
   "nbconvert_exporter": "python",
   "pygments_lexer": "ipython3",
   "version": "3.7.6"
  }
 },
 "nbformat": 4,
 "nbformat_minor": 4
}
