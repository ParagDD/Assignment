{
  "nbformat": 4,
  "nbformat_minor": 0,
  "metadata": {
    "colab": {
      "provenance": []
    },
    "kernelspec": {
      "name": "python3",
      "display_name": "Python 3"
    },
    "language_info": {
      "name": "python"
    }
  },
  "cells": [
    {
      "cell_type": "code",
      "execution_count": 3,
      "metadata": {
        "colab": {
          "base_uri": "https://localhost:8080/"
        },
        "id": "W_l4OaqNai6C",
        "outputId": "df7a5dc5-c42c-4df4-9f81-cf0fd64cb1e0"
      },
      "outputs": [
        {
          "output_type": "stream",
          "name": "stdout",
          "text": [
            "Original Matrix:\n",
            "1 2 3\n",
            "4 5 6\n",
            "7 8 9\n",
            "\n",
            "Rotated Matrix (Clockwise):\n",
            "7 4 1\n",
            "8 5 2\n",
            "9 6 3\n"
          ]
        }
      ],
      "source": [
        "def rotate_matrix_clockwise(matrix):\n",
        "    if not matrix:\n",
        "        return matrix\n",
        "\n",
        "    num_rows = len(matrix)\n",
        "    num_cols = len(matrix[0])\n",
        "\n",
        "    rotated_matrix = [[0] * num_rows for _ in range(num_cols)]\n",
        "\n",
        "    for i in range(num_rows):\n",
        "        for j in range(num_cols):\n",
        "            rotated_matrix[j][num_rows - 1 - i] = matrix[i][j]\n",
        "\n",
        "    return rotated_matrix\n",
        "\n",
        "def print_matrix(matrix):\n",
        "    for row in matrix:\n",
        "        print(\" \".join(str(elem) for elem in row))\n",
        "\n",
        "# Test Example\n",
        "matrix = [\n",
        "    [1, 2, 3],\n",
        "    [4, 5, 6],\n",
        "    [7, 8, 9]\n",
        "]\n",
        "\n",
        "print(\"Original Matrix:\")\n",
        "print_matrix(matrix)\n",
        "\n",
        "rotated_matrix = rotate_matrix_clockwise(matrix)\n",
        "\n",
        "print(\"\\nRotated Matrix (Clockwise):\")\n",
        "print_matrix(rotated_matrix)\n"
      ]
    },
    {
      "cell_type": "code",
      "source": [],
      "metadata": {
        "id": "eggeyx4mb-Hv"
      },
      "execution_count": null,
      "outputs": []
    }
  ]
}